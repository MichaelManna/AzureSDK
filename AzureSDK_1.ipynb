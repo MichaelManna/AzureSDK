{
 "cells": [
  {
   "cell_type": "code",
   "execution_count": null,
   "metadata": {},
   "outputs": [],
   "source": [
    "pip install azureml-sdk"
   ]
  },
  {
   "cell_type": "code",
   "execution_count": null,
   "metadata": {},
   "outputs": [],
   "source": [
    "from azureml.core import Workspace, Datastore, Dataset"
   ]
  },
  {
   "cell_type": "markdown",
   "metadata": {},
   "source": [
    "Workspace"
   ]
  },
  {
   "cell_type": "code",
   "execution_count": null,
   "metadata": {},
   "outputs": [],
   "source": [
    "#Create Workspace\n",
    "ws = Workspace.create(name='Azureml-SDK-WS01',\n",
    "                      subscription_id='12345a67b-1357c2468d',\n",
    "                      resource_group='AZUREMLSDKG01',\n",
    "                      create_resource_group=True,\n",
    "                      location='westus')"
   ]
  },
  {
   "cell_type": "code",
   "execution_count": null,
   "metadata": {},
   "outputs": [],
   "source": [
    "#Configure Workspace\n",
    "ws.write_config(path=\"./config\")"
   ]
  },
  {
   "cell_type": "markdown",
   "metadata": {},
   "source": [
    "Datastore"
   ]
  },
  {
   "cell_type": "code",
   "execution_count": null,
   "metadata": {},
   "outputs": [],
   "source": [
    "#Access Workspace\n",
    "ws = Workspace.from_config(path=\"./config\")"
   ]
  },
  {
   "cell_type": "code",
   "execution_count": null,
   "metadata": {},
   "outputs": [],
   "source": [
    "#Create Datastore\n",
    "az_store = Datastore.register_azure_blob_container(\n",
    "            workspace=ws,\n",
    "            datastore_name=\"azure_sdk_blob01\",\n",
    "            account_name=\"azuremlstb01\",\n",
    "            container_name=\"azuremlstb01blob\",\n",
    "            account_key=\"mQ6meDug7SdlFXu0/tBu7pKcNerxxYtO6X1V13M4sSohBAv2/i2KxdYe3ueiQXKrw+alPU1ou4NBuYBtuBVsig==\")"
   ]
  },
  {
   "cell_type": "markdown",
   "metadata": {},
   "source": [
    "Dataset"
   ]
  },
  {
   "cell_type": "code",
   "execution_count": null,
   "metadata": {},
   "outputs": [],
   "source": [
    "# Create the path of the csv file\n",
    "csv_path = [(az_store, \"Loan Data/Loan Approval Prediction.csv\")]"
   ]
  },
  {
   "cell_type": "code",
   "execution_count": null,
   "metadata": {},
   "outputs": [],
   "source": [
    "# Create the dataset\n",
    "loan_dataset = Dataset.Tabular.from_delimited_files(path=csv_path)"
   ]
  },
  {
   "cell_type": "code",
   "execution_count": null,
   "metadata": {},
   "outputs": [],
   "source": [
    "# Register the dataset\n",
    "loan_dataset = loan_dataset.register(workspace=ws,\n",
    "                                     name=\"Loan Applications Using SDK\",\n",
    "                                     create_new_version=True)"
   ]
  },
  {
   "cell_type": "markdown",
   "metadata": {},
   "source": [
    "Access Workspace, Datastore, Dataset from SDK"
   ]
  },
  {
   "cell_type": "code",
   "execution_count": null,
   "metadata": {},
   "outputs": [],
   "source": [
    "# List all the workspaces within a subscription\n",
    "ws_list = Workspace.list(subscription_id=\"77819c59-5764-4995-8596-d09cdc661078\")\n",
    "ws_list = list(ws_list)"
   ]
  },
  {
   "cell_type": "code",
   "execution_count": null,
   "metadata": {},
   "outputs": [],
   "source": [
    "# Access the default datastore from workspace\n",
    "az_default_store = ws.get_default_datastore()"
   ]
  },
  {
   "cell_type": "code",
   "execution_count": null,
   "metadata": {},
   "outputs": [],
   "source": [
    "# List all the datastores\n",
    "store_list = list(ws.datastores)"
   ]
  },
  {
   "cell_type": "code",
   "execution_count": null,
   "metadata": {},
   "outputs": [],
   "source": [
    "# Get the dataset by name from a workspace\n",
    "az_dataset = Dataset.get_by_name(ws, \"Loan Applications Using SDK\")"
   ]
  },
  {
   "cell_type": "code",
   "execution_count": null,
   "metadata": {},
   "outputs": [],
   "source": [
    "# List datasets from a workspace\n",
    "ds_list = list(ws.datasets.keys())\n",
    "\n",
    "for items in ds_list:\n",
    "    print(items)"
   ]
  },
  {
   "cell_type": "markdown",
   "metadata": {},
   "source": [
    "Pandas Dataframe and AzureML Dataset"
   ]
  },
  {
   "cell_type": "code",
   "execution_count": null,
   "metadata": {},
   "outputs": [],
   "source": [
    "# Access the Workspace, Datastore and Datasets\n",
    "ws                = Workspace.from_config(\"./config\")\n",
    "az_store          = Datastore.get(ws, 'azure_sdk_blob01')\n",
    "az_dataset        = Dataset.get_by_name(ws, 'Loan Applications Using SDK')\n",
    "az_default_store  = ws.get_default_datastore()"
   ]
  },
  {
   "cell_type": "code",
   "execution_count": null,
   "metadata": {},
   "outputs": [],
   "source": [
    "# Load the Azureml Dataset into the pandas dataframe\n",
    "df = az_dataset.to_pandas_dataframe()"
   ]
  },
  {
   "cell_type": "code",
   "execution_count": null,
   "metadata": {},
   "outputs": [],
   "source": [
    "# Upload the dataframe to the azureml dataset\n",
    "df_sub = df[[\"Married\", \"Gender\", \"Loan_Status\"]]\n",
    "\n",
    "az_ds_from_df = Dataset.Tabular.register_pandas_dataframe(\n",
    "                dataframe=df_sub,\n",
    "                target=az_store,\n",
    "                name=\"Loan Dataset From Dataframe\")"
   ]
  },
  {
   "cell_type": "markdown",
   "metadata": {},
   "source": [
    "Upload local data to storage account via datastore"
   ]
  },
  {
   "cell_type": "code",
   "execution_count": null,
   "metadata": {},
   "outputs": [],
   "source": [
    "# Upload local files to storage account using datastore \n",
    "files_list = [\"./data/test.csv\", \"./data/test1.csv\"]\n",
    "\n",
    "az_store.upload_files(files=files_list,\n",
    "                      target_path=\"Loan Data/\",\n",
    "                      relative_root=\"./data/\",\n",
    "                      overwrite=True)"
   ]
  },
  {
   "cell_type": "code",
   "execution_count": null,
   "metadata": {},
   "outputs": [],
   "source": [
    "# Upload folder or directory to the storage account\n",
    "az_store.upload(src_dir=\"./data\",\n",
    "                target_path=\"Loan Data/data\",\n",
    "                overwrite=True)"
   ]
  }
 ],
 "metadata": {
  "kernelspec": {
   "display_name": "Python 3",
   "language": "python",
   "name": "python3"
  },
  "language_info": {
   "codemirror_mode": {
    "name": "ipython",
    "version": 3
   },
   "file_extension": ".py",
   "mimetype": "text/x-python",
   "name": "python",
   "nbconvert_exporter": "python",
   "pygments_lexer": "ipython3",
   "version": "3.8.5"
  }
 },
 "nbformat": 4,
 "nbformat_minor": 4
}
