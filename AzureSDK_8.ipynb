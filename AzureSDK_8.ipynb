{
 "cells": [
  {
   "cell_type": "code",
   "execution_count": null,
   "metadata": {},
   "outputs": [],
   "source": [
    "from azureml.core import Workspace\n",
    "from azureml.core import Environment\n",
    "from azureml.core.environment import CondaDependencies\n",
    "from azureml.core.compute import AmlCompute\n",
    "from azureml.core.compute import ComputeTarget\n",
    "from azureml.core.runconfig import RunConfiguration\n",
    "from azureml.pipeline.steps import PythonScriptStep\n",
    "from azureml.pipeline.core  import PipelineData\n",
    "from azureml.pipeline.core import Pipeline\n",
    "from azureml.core import Experiment"
   ]
  },
  {
   "cell_type": "code",
   "execution_count": null,
   "metadata": {},
   "outputs": [],
   "source": [
    "# Access the Workspace\n",
    "ws = Workspace.from_config(\"./config\")"
   ]
  },
  {
   "cell_type": "code",
   "execution_count": null,
   "metadata": {},
   "outputs": [],
   "source": [
    "# Create the environment\n",
    "myenv = Environment(name=\"MyEnvironment\")"
   ]
  },
  {
   "cell_type": "code",
   "execution_count": null,
   "metadata": {},
   "outputs": [],
   "source": [
    "# Create the dependencies object\n",
    "myenv_dep = CondaDependencies.create(conda_packages=['scikit-learn'])\n",
    "myenv.python.conda_dependencies = myenv_dep"
   ]
  },
  {
   "cell_type": "code",
   "execution_count": null,
   "metadata": {},
   "outputs": [],
   "source": [
    "# Register the environment\n",
    "myenv.register(ws)"
   ]
  },
  {
   "cell_type": "code",
   "execution_count": null,
   "metadata": {},
   "outputs": [],
   "source": [
    "# Create a compute cluster for pipeline\n",
    "cluster_name = \"pipeline-cluster\"\n",
    "compute_config = AmlCompute.provisioning_configuration(vm_size='STANDARD_D11_V2', max_nodes=2)\n",
    "compute_cluster = ComputeTarget.create(ws, cluster_name, compute_config)\n",
    "compute_cluster.wait_for_completion()"
   ]
  },
  {
   "cell_type": "code",
   "execution_count": null,
   "metadata": {},
   "outputs": [],
   "source": [
    "# Create Run Configurations for the steps\n",
    "run_config = RunConfiguration()\n",
    "run_config.target = compute_cluster\n",
    "run_config.environment = myenv"
   ]
  },
  {
   "cell_type": "code",
   "execution_count": null,
   "metadata": {},
   "outputs": [],
   "source": [
    "# Define Pipeline steps\n",
    "input_ds = ws.datasets.get('Defaults')\n",
    "dataFolder = PipelineData('datafolder', datastore=ws.get_default_datastore())"
   ]
  },
  {
   "cell_type": "code",
   "execution_count": null,
   "metadata": {},
   "outputs": [],
   "source": [
    "# Step 01 - Data Preparation\n",
    "dataPrep_step = PythonScriptStep(name='01 Data Preparation',\n",
    "                                 source_directory='.',\n",
    "                                 script_name='220 - Dataprep Pipeline.py',\n",
    "                                 inputs=[input_ds.as_named_input('raw_data')],\n",
    "                                 outputs=[dataFolder],\n",
    "                                 runconfig=run_config,\n",
    "                                 arguments=['--datafolder', dataFolder])"
   ]
  },
  {
   "cell_type": "code",
   "execution_count": null,
   "metadata": {},
   "outputs": [],
   "source": [
    "# Step 02 - Train the model\n",
    "train_step    = PythonScriptStep(name='02 Train the Model',\n",
    "                                 source_directory='.',\n",
    "                                 script_name='220 - Training Pipeline.py',\n",
    "                                 inputs=[dataFolder],\n",
    "                                 runconfig=run_config,\n",
    "                                 arguments=['--datafolder', dataFolder])"
   ]
  },
  {
   "cell_type": "code",
   "execution_count": null,
   "metadata": {},
   "outputs": [],
   "source": [
    "# Configure and build the pipeline\n",
    "steps = [dataPrep_step, train_step]\n",
    "new_pipeline = Pipeline(workspace=ws, steps=steps)"
   ]
  },
  {
   "cell_type": "code",
   "execution_count": null,
   "metadata": {},
   "outputs": [],
   "source": [
    "# Create the experiment and run the pipeline\n",
    "new_experiment = Experiment(workspace=ws, name='PipelineExp01')\n",
    "new_pipeline_run = new_experiment.submit(new_pipeline)\n",
    "new_pipeline_run.wait_for_completion(show_output=True)"
   ]
  }
 ],
 "metadata": {
  "kernelspec": {
   "display_name": "Python 3",
   "language": "python",
   "name": "python3"
  },
  "language_info": {
   "codemirror_mode": {
    "name": "ipython",
    "version": 3
   },
   "file_extension": ".py",
   "mimetype": "text/x-python",
   "name": "python",
   "nbconvert_exporter": "python",
   "pygments_lexer": "ipython3",
   "version": "3.8.5"
  }
 },
 "nbformat": 4,
 "nbformat_minor": 4
}
