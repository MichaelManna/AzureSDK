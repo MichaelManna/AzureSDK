{
 "cells": [
  {
   "cell_type": "code",
   "execution_count": null,
   "metadata": {},
   "outputs": [],
   "source": [
    "# Import required classes from Azureml\n",
    "from azureml.core import Workspace, Datastore, Dataset, Experiment\n",
    "from azureml.core import Run"
   ]
  },
  {
   "cell_type": "code",
   "execution_count": null,
   "metadata": {},
   "outputs": [],
   "source": [
    "# Access the Workspace, Datastore and Datasets\n",
    "ws                = Workspace.from_config(\"./config\")\n",
    "az_store          = Datastore.get(ws, 'azure_sdk_blob01')\n",
    "az_dataset        = Dataset.get_by_name(ws, 'Loan Applications Using SDK')\n",
    "az_default_store  = ws.get_default_datastore()"
   ]
  },
  {
   "cell_type": "code",
   "execution_count": null,
   "metadata": {},
   "outputs": [],
   "source": [
    "# Get the context of the experiment run\n",
    "new_run = Run.get_context()"
   ]
  },
  {
   "cell_type": "code",
   "execution_count": null,
   "metadata": {},
   "outputs": [],
   "source": [
    "# datasetto dataframe\n",
    "df = az_dataset.to_pandas_dataframe()"
   ]
  },
  {
   "cell_type": "code",
   "execution_count": null,
   "metadata": {},
   "outputs": [],
   "source": [
    "# Count the observations\n",
    "total_observations = len(df)"
   ]
  },
  {
   "cell_type": "code",
   "execution_count": null,
   "metadata": {},
   "outputs": [],
   "source": [
    "# Get the null/missing values\n",
    "nulldf = df.isnull().sum()"
   ]
  },
  {
   "cell_type": "code",
   "execution_count": null,
   "metadata": {},
   "outputs": [],
   "source": [
    "# Create a new dataframe with new features \n",
    "# and write to outputs folder\n",
    "new_df = df[[\"Gender\", \"Married\", \"Education\", \"Loan_Status\"]]\n",
    "new_df.to_csv(\"./outputs/loan_trunc.csv\", index=False)"
   ]
  },
  {
   "cell_type": "code",
   "execution_count": null,
   "metadata": {},
   "outputs": [],
   "source": [
    "# Log the metrics to the workspace\n",
    "new_run.log(\"Total Observations\", total_observations)"
   ]
  },
  {
   "cell_type": "code",
   "execution_count": null,
   "metadata": {},
   "outputs": [],
   "source": [
    "# Log the missing data values\n",
    "for columns in df.columns:\n",
    "    new_run.log(columns, nulldf[columns])\n",
    "\n",
    "new_run.complete()"
   ]
  }
 ],
 "metadata": {
  "kernelspec": {
   "display_name": "Python 3",
   "language": "python",
   "name": "python3"
  },
  "language_info": {
   "codemirror_mode": {
    "name": "ipython",
    "version": 3
   },
   "file_extension": ".py",
   "mimetype": "text/x-python",
   "name": "python",
   "nbconvert_exporter": "python",
   "pygments_lexer": "ipython3",
   "version": "3.8.5"
  }
 },
 "nbformat": 4,
 "nbformat_minor": 4
}
